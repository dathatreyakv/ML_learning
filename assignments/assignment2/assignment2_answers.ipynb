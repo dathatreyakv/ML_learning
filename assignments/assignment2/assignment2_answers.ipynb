{
 "cells": [
  {
   "cell_type": "markdown",
   "metadata": {},
   "source": [
    "<h2><center>Assignment 2</center></h2><h3> > Task 1: </h3>"
   ]
  },
  {
   "cell_type": "markdown",
   "metadata": {},
   "source": [
    "#### 1.1 Write a Python Program to implement your own myreduce() function which works exactly like Python's built-in function reduce()"
   ]
  },
  {
   "cell_type": "code",
   "execution_count": 1,
   "metadata": {},
   "outputs": [
    {
     "name": "stdout",
     "output_type": "stream",
     "text": [
      "45\n"
     ]
    }
   ],
   "source": [
    "def myreduce(cust_func, seq):\n",
    "    final_val = seq[0]\n",
    "    for i in seq[1:]:\n",
    "        final_val = cust_func(final_val, i)\n",
    "    return final_val\n",
    "\n",
    "input_arr = [1,2,3,4,5,6,7,8,9]\n",
    "print(myreduce(lambda a,b: a+b, input_arr))"
   ]
  },
  {
   "cell_type": "markdown",
   "metadata": {},
   "source": [
    "#### 1.2 Write a Python program to implement your own myfilter() function which works exactly like Python's built-in function filter()"
   ]
  },
  {
   "cell_type": "code",
   "execution_count": 2,
   "metadata": {},
   "outputs": [
    {
     "name": "stdout",
     "output_type": "stream",
     "text": [
      "[2, 4, 6, 8]\n"
     ]
    }
   ],
   "source": [
    "def myfilter(cust_func, seq):\n",
    "    final_list = []\n",
    "    for i in seq:\n",
    "        if cust_func(i):\n",
    "            final_list.append(i)\n",
    "    return final_list\n",
    "\n",
    "input_arr = [1,2,3,4,5,6,7,8,9]\n",
    "print(myfilter(lambda i: i%2==0, input_arr))"
   ]
  },
  {
   "cell_type": "markdown",
   "metadata": {},
   "source": [
    "### 2. Implement List comprehensions to produce the following lists. \n",
    " - ['A', 'C', 'A', 'D', 'G', 'I', ’L’, ‘ D’]\n",
    " - ['x', 'xx', 'xxx', 'xxxx', 'y', 'yy', 'yyy', 'yyyy', 'z', 'zz', 'zzz', 'zzzz']\n",
    " - ['x', 'y', 'z', 'xx', 'yy', 'zz', 'xx', 'yy', 'zz', 'xxxx', 'yyyy', 'zzzz']\n",
    " - [[2], [3], [4], [3], [4], [5], [4], [5], [6]]\n",
    " - [[2, 3, 4, 5], [3, 4, 5, 6], [4, 5, 6, 7], [5, 6, 7, 8]]\n",
    " - [(1, 1), (2, 1), (3, 1), (1, 2), (2, 2), (3, 2), (1, 3), (2, 3), (3, 3)]"
   ]
  },
  {
   "cell_type": "code",
   "execution_count": 3,
   "metadata": {},
   "outputs": [
    {
     "name": "stdout",
     "output_type": "stream",
     "text": [
      "['A', 'C', 'A', 'D', 'G', 'I', 'L', 'D']\n",
      "['x', 'xx', 'xxx', 'xxxx', 'y', 'yy', 'yyy', 'yyyy', 'z', 'zz', 'zzz', 'zzzz']\n",
      "['A', 'C', 'A', 'D', 'G', 'I', 'L', 'D']\n",
      "['x', 'y', 'z', 'xx', 'yy', 'zz', 'xxx', 'yyy', 'zzz', 'xxxx', 'yyyy', 'zzzz']\n",
      "[[2], [3], [4], [3], [4], [5], [4], [5], [6]]\n",
      "[[2, 3, 4, 5], [3, 4, 5, 6], [4, 5, 6, 7], [5, 6, 7, 8]]\n",
      "[(1, 1), (2, 1), (3, 1), (1, 2), (2, 2), (3, 2), (1, 3), (2, 3), (3, 3)]\n"
     ]
    }
   ],
   "source": [
    "input_str = \"ACADGILD\"\n",
    "result = [c for c in input_str]\n",
    "print(result)\n",
    "\n",
    "input_arr = ['x','y','z']\n",
    "print([i*n for i in input_arr for n in range(1,5)])\n",
    "print(result)\n",
    "# unable to prepare given pattern ['x', 'y', 'z', 'xx', 'yy', 'zz', 'xx', 'yy', 'zz', 'xxxx', 'yyyy', 'zzzz']\n",
    "input_arr = ['x','y','z']\n",
    "result = [i*n for n in range(1,5) for i in input_arr]\n",
    "print(result)\n",
    "\n",
    "input_arr = [2,3,4]\n",
    "result = [[ele+n] for n in range(0,3) for ele in input_arr]\n",
    "print(result)\n",
    "\n",
    "input_arr = [2,3,4,5]\n",
    "result = [[ele+n for n in range(0,4)] for ele in input_arr]\n",
    "print(result)\n",
    "\n",
    "input_arr = [1,2,3]\n",
    "result = [(j,i) for i in input_arr for j in input_arr]\n",
    "print(result)"
   ]
  },
  {
   "cell_type": "markdown",
   "metadata": {},
   "source": [
    "#### 3. Implement a function longestWord() that takes a list of words and returns the longest one."
   ]
  },
  {
   "cell_type": "code",
   "execution_count": 4,
   "metadata": {},
   "outputs": [
    {
     "name": "stdout",
     "output_type": "stream",
     "text": [
      "disappear\n"
     ]
    }
   ],
   "source": [
    "def longestWord(words_list):\n",
    "    first_longest_word = \"\"\n",
    "    for word in words_list:\n",
    "        if len(first_longest_word) < len(word):\n",
    "            first_longest_word =  word\n",
    "    return first_longest_word\n",
    "\n",
    "print(longestWord([\"Go\", \"depart\", \"disappear\", \"fade\", \"move\", \"proceed\", \"recede\", \"travel\"]))"
   ]
  },
  {
   "cell_type": "markdown",
   "metadata": {},
   "source": [
    "### > Task 2:\n",
    "\n",
    "#### 1.1 Write a Python Program(with class concepts) to find the area of the triangle using the below formula.\n",
    "` area = (s*(s-a)*(s-b)*(s-c)) ** 0.5 `\n",
    "#### Function to take the length of the sides of triangle from user should be defined in the parent class and function to calculate the area should be defined in subclass."
   ]
  },
  {
   "cell_type": "code",
   "execution_count": 5,
   "metadata": {},
   "outputs": [
    {
     "name": "stdout",
     "output_type": "stream",
     "text": [
      "6.0\n"
     ]
    }
   ],
   "source": [
    "class Polygon:\n",
    "\n",
    "    def __init__(self, n):\n",
    "        self.number_of_sides = n\n",
    "    \n",
    "    def print_num_sides(self):\n",
    "        print('There are ' + str(self.number_of_sides) + ' sides.')\n",
    "        \n",
    "class Triangle(Polygon):\n",
    "    \n",
    "    def __init__(self, lengths_of_sides):\n",
    "        Polygon.__init__(self, 3)\n",
    "        self.lengths_of_sides = lengths_of_sides  # list of three numbers\n",
    "    \n",
    "    def get_area(self):\n",
    "        a, b, c = self.lengths_of_sides\n",
    "        s = (a + b + c) / 2\n",
    "        return (s*(s-a)*(s-b)*(s-c)) ** 0.5\n",
    "\n",
    "print(Triangle([3,4,5]).get_area())"
   ]
  },
  {
   "cell_type": "markdown",
   "metadata": {},
   "source": [
    "#### 1.2 Write a function filter_long_words() that takes a list of words and an integer n and returns the list of words that are longer than n."
   ]
  },
  {
   "cell_type": "code",
   "execution_count": 6,
   "metadata": {},
   "outputs": [
    {
     "data": {
      "text/plain": [
       "['inaugurate', 'originate']"
      ]
     },
     "execution_count": 6,
     "metadata": {},
     "output_type": "execute_result"
    }
   ],
   "source": [
    "def filter_long_words(words_list,n):\n",
    "    longer_words = []\n",
    "    for word in words_list:\n",
    "        if len(word) > n:\n",
    "            longer_words.append(word)\n",
    "    return longer_words\n",
    "\n",
    "input_list = [\"Begin\", \"start\", \"open\", \"launch\", \"initiate\", \"commence\", \"inaugurate\", \"originate\"]\n",
    "filter_long_words(input_list, 8)"
   ]
  },
  {
   "cell_type": "markdown",
   "metadata": {},
   "source": [
    "#### 2.1 Write a Python program using function concept that maps list of words into a list of integers representing the lengths of the corresponding words​ .\n",
    "<b>Hint:</b> If a list [ ab,cde,erty] is passed on to the python function output should come as [2,3,4]\n",
    "Here 2,3 and 4 are the lengths of the words in the list."
   ]
  },
  {
   "cell_type": "code",
   "execution_count": 7,
   "metadata": {},
   "outputs": [
    {
     "data": {
      "text/plain": [
       "[2, 3, 4]"
      ]
     },
     "execution_count": 7,
     "metadata": {},
     "output_type": "execute_result"
    }
   ],
   "source": [
    "def length__of_words(words_list):\n",
    "    return [ len(word) for word in words_list ]\n",
    "\n",
    "input_list = [ \"ab\", \"cde\", \"erty\"]\n",
    "length__of_words(input_list)"
   ]
  },
  {
   "cell_type": "markdown",
   "metadata": {},
   "source": [
    "#### 2.2 Write a Python function which takes a character (i.e. a string of length 1) and returns True if it is a vowel, False otherwise."
   ]
  },
  {
   "cell_type": "code",
   "execution_count": 8,
   "metadata": {},
   "outputs": [
    {
     "name": "stdout",
     "output_type": "stream",
     "text": [
      "False\n",
      "False\n",
      "True\n"
     ]
    }
   ],
   "source": [
    "def is_vowel(char):\n",
    "    vowels = 'aeiou'\n",
    "    return False if len(char) > 1 else char in vowels\n",
    "\n",
    "print(is_vowel('c'))\n",
    "print(is_vowel('ae'))\n",
    "print(is_vowel('e'))"
   ]
  }
 ],
 "metadata": {
  "kernelspec": {
   "display_name": "Python 3",
   "language": "python",
   "name": "python3"
  },
  "language_info": {
   "codemirror_mode": {
    "name": "ipython",
    "version": 3
   },
   "file_extension": ".py",
   "mimetype": "text/x-python",
   "name": "python",
   "nbconvert_exporter": "python",
   "pygments_lexer": "ipython3",
   "version": "3.7.4"
  }
 },
 "nbformat": 4,
 "nbformat_minor": 2
}
