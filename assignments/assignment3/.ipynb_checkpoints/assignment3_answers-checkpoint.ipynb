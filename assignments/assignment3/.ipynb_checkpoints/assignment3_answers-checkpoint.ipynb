{
 "cells": [
  {
   "cell_type": "markdown",
   "metadata": {},
   "source": [
    "### Task 1:\n",
    "##### 1. Write a function to compute 5/0 and use try/except to catch the exceptions."
   ]
  },
  {
   "cell_type": "code",
   "execution_count": 1,
   "metadata": {},
   "outputs": [],
   "source": [
    "def divide(x, y): \n",
    "    try: \n",
    "        result = x // y\n",
    "        return result\n",
    "    except ZeroDivisionError: \n",
    "        return \"You are dividing by zero \"\n",
    "\n",
    "print(divide(3, 2))\n",
    "print(divide(4,0))"
   ]
  },
  {
   "cell_type": "markdown",
   "metadata": {},
   "source": [
    "####  2. Implement a Python program to generate all sentences where subject is in [ \"Americans\",  \"Indians\" ] and verb is in [ \"Play\", \"watch\" ] and the object is in [ \"Baseball\" , \"cricket\" ].\n",
    "<b>Hint:</b> Subject,Verb and Object should be declared in the program as shown below.<br>\n",
    "subjects=[\"Americans \",\"Indians\"]<br>\n",
    "verbs=[\"play\",\"watch\"]<br>\n",
    "objects=[\"Baseball\",\"Cricket\"]<br>\n",
    "\n",
    "<b>Output should come as below:</b><br>\n",
    "Americans play Baseball.<br>\n",
    "Americans play Cricket.<br>\n",
    "Americans watch Baseball.<br>\n",
    "Americans watch Cricket.<br>\n",
    "Indians play Baseball.<br>\n",
    "Indians play Cricket.<br>\n",
    "Indians watch Baseball.<br>\n",
    "Indians watch Cricket."
   ]
  },
  {
   "cell_type": "code",
   "execution_count": 2,
   "metadata": {},
   "outputs": [],
   "source": [
    "subjects=[\"Americans\",\"Indians\"]\n",
    "verbs=[\"play\",\"watch\"]\n",
    "objects=[\"Baseball\",\"Cricket\"]\n",
    "\n",
    "arr = [subj + \" \" + verb + \" \" + obj for subj in subjects for verb in verbs for obj in objects]\n",
    "for sentence in arr: print(sentence) "
   ]
  },
  {
   "cell_type": "markdown",
   "metadata": {},
   "source": [
    "### Task 2:\n",
    "#### 1. Write a function so that the columns of the output matrix are powers of the input vector.\n",
    "#### The order of the powers is determined by the increasing boolean argument. Specifically, when increasing is False, the i-th output column is the input vector raised element-wise to the power  of N - i - 1.\n",
    "<b>HINT:</b> Such a matrix with a geometric progression in each row is named for Alexandre-\n",
    "Theophile Vandermonde.<br>"
   ]
  },
  {
   "cell_type": "code",
   "execution_count": 29,
   "metadata": {},
   "outputs": [
    {
     "name": "stdout",
     "output_type": "stream",
     "text": [
      "[[1, 2, 4, 8], [1, 4, 16, 64], [1, 6, 36, 216], [1, 10, 100, 1000]]\n",
      "[[8, 4, 2, 1], [64, 16, 4, 1], [216, 36, 6, 1], [1000, 100, 10, 1]]\n"
     ]
    }
   ],
   "source": [
    "def pow_vector(one_d_array, N = None , increasing=False):\n",
    "    if N is None: N = len(one_d_array)\n",
    "    # return [ [ i**j for j in (range(0,N) if increasing else range(N-1,-1,-1)) ] for i in one_d_array]\n",
    "    return [ [ element**(i if increasing else N-i-1) for i in range(0,N) ] for element in one_d_array]\n",
    "\n",
    "print(pow_vector([2,4,6,10],4,True))\n",
    "print(pow_vector([2,4,6,10],4))"
   ]
  }
 ],
 "metadata": {
  "kernelspec": {
   "display_name": "Python 3",
   "language": "python",
   "name": "python3"
  },
  "language_info": {
   "codemirror_mode": {
    "name": "ipython",
    "version": 3
   },
   "file_extension": ".py",
   "mimetype": "text/x-python",
   "name": "python",
   "nbconvert_exporter": "python",
   "pygments_lexer": "ipython3",
   "version": "3.7.3"
  }
 },
 "nbformat": 4,
 "nbformat_minor": 2
}
